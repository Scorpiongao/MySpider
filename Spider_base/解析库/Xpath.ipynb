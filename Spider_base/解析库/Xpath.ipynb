{
 "cells": [
  {
   "cell_type": "markdown",
   "metadata": {},
   "source": [
    "# Xpath\n",
    "- 参考\n",
    "    - [python爬虫之Xpath基本使用](http://www.cnblogs.com/lei0213/p/7506130.html)"
   ]
  },
  {
   "cell_type": "code",
   "execution_count": 4,
   "metadata": {},
   "outputs": [
    {
     "name": "stdout",
     "output_type": "stream",
     "text": [
      "<Element html at 0x219db765948>\n",
      "<class 'bytes'>\n",
      "<html><body><div>\n",
      "            <ul>\n",
      "                 <li class=\"item-0\"><a href=\"link1.html\">first item</a></li>\n",
      "                 <li class=\"item-1\"><a href=\"link2.html\">second item</a></li>\n",
      "                 <li class=\"item-inactive\"><a href=\"link3.html\">third item</a></li>\n",
      "                 <li class=\"item-1\"><a href=\"link4.html\">fourth item</a></li>\n",
      "                 <li class=\"item-0\"><a href=\"link5.html\">fifth item</a>\n",
      "             </li></ul>\n",
      "         </div>\n",
      "        </body></html>\n"
     ]
    }
   ],
   "source": [
    "#导入\n",
    "from lxml import etree\n",
    " \n",
    "wb_data = \"\"\"\n",
    "        <div>\n",
    "            <ul>\n",
    "                 <li class=\"item-0\"><a href=\"link1.html\">first item</a></li>\n",
    "                 <li class=\"item-1\"><a href=\"link2.html\">second item</a></li>\n",
    "                 <li class=\"item-inactive\"><a href=\"link3.html\">third item</a></li>\n",
    "                 <li class=\"item-1\"><a href=\"link4.html\">fourth item</a></li>\n",
    "                 <li class=\"item-0\"><a href=\"link5.html\">fifth item</a>\n",
    "             </ul>\n",
    "         </div>\n",
    "        \"\"\"\n",
    "html = etree.HTML(wb_data)\n",
    "print(html)\n",
    "\n",
    "result = etree.tostring(html)\n",
    "print(type(result))\n",
    "\n",
    "print(result.decode(\"utf-8\"))\n",
    "\n",
    "\n",
    "#写入文件\n",
    "with open(\"test.html\",'w')as f:\n",
    "    f.write(result.decode(\"utf-8\"))\n",
    "\n",
    "#从下面的结果来看，我们打印机html其实就是一个python对象，etree.tostring(html)则是不全里html的基本写法，补全了缺胳膊少腿的标签。"
   ]
  },
  {
   "cell_type": "code",
   "execution_count": 10,
   "metadata": {},
   "outputs": [
    {
     "name": "stdout",
     "output_type": "stream",
     "text": [
      "[<Element html at 0x219db7ec508>, <Element body at 0x219db765f88>, <Element div at 0x219db7c0c48>, <Element ul at 0x219db7ec188>, <Element li at 0x219db7ec7c8>, <Element a at 0x219db7ec248>, <Element li at 0x219db7ec808>, <Element a at 0x219db7ec408>, <Element li at 0x219db7ec6c8>, <Element a at 0x219db7ec648>, <Element li at 0x219db7ec748>, <Element a at 0x219db7ec948>, <Element li at 0x219db7ec988>, <Element a at 0x219db7ec9c8>]\n",
      "[<Element li at 0x219db7ec7c8>, <Element li at 0x219db7ec808>, <Element li at 0x219db7ec6c8>, <Element li at 0x219db7ec748>, <Element li at 0x219db7ec988>]\n",
      "<Element li at 0x219db7ec7c8>\n",
      "[<Element a at 0x219db7c0c48>, <Element a at 0x219db577cc8>, <Element a at 0x219db7ec188>, <Element a at 0x219db7ec248>, <Element a at 0x219db7ec408>]\n",
      "<Element a at 0x219db7c0c48>\n"
     ]
    }
   ],
   "source": [
    "from lxml import etree\n",
    "html = etree.parse('test.html',etree.HTMLParser())\n",
    "\n",
    "#所有节点\n",
    "result = html.xpath('//*')\n",
    "print(result)\n",
    "\n",
    "#li节点\n",
    "result = html.xpath('//li')\n",
    "print(result)\n",
    "print(result[0])\n",
    "\n",
    "#li的直接子节点a\n",
    "result = html.xpath('//li/a')\n",
    "print(result)\n",
    "print(result[0])"
   ]
  },
  {
   "cell_type": "code",
   "execution_count": 15,
   "metadata": {},
   "outputs": [
    {
     "name": "stdout",
     "output_type": "stream",
     "text": [
      "[<Element li at 0x219db7ec208>]\n",
      "['item-1']\n"
     ]
    }
   ],
   "source": [
    "#父节点\n",
    "result = html.xpath('//a[@href=\"link4.html\"]/..')\n",
    "print(result)\n",
    "print(result[0].xpath('@class'))\n"
   ]
  },
  {
   "cell_type": "code",
   "execution_count": 16,
   "metadata": {},
   "outputs": [
    {
     "name": "stdout",
     "output_type": "stream",
     "text": [
      "[<Element li at 0x219db577b88>, <Element li at 0x219db8f2ac8>]\n",
      "<Element li at 0x219db577b88>\n"
     ]
    }
   ],
   "source": [
    "#属性匹配,过滤 :@attributename\n",
    "result = html.xpath('//li[@class=\"item-0\"]')\n",
    "print(result)\n",
    "print(result[0])"
   ]
  },
  {
   "cell_type": "code",
   "execution_count": 21,
   "metadata": {},
   "outputs": [
    {
     "name": "stdout",
     "output_type": "stream",
     "text": [
      "['\\r\\n             ']\n",
      "['first item', 'fifth item']\n",
      "['first item', 'fifth item', '\\r\\n             ']\n"
     ]
    }
   ],
   "source": [
    "#文本提取: text()\n",
    "result = html.xpath('//li[@class=\"item-0\"]/text()')\n",
    "print(result)\n",
    "# print(result[0])\n",
    "\n",
    "\n",
    "#解决办法1: 补充/a\n",
    "result = html.xpath('//li[@class=\"item-0\"]/a/text()')\n",
    "print(result)\n",
    "# print(result[0])\n",
    "\n",
    "#解决办法2: 用//\n",
    "result = html.xpath('//li[@class=\"item-0\"]//text()')\n",
    "print(result)\n",
    "# print(result[0])\n"
   ]
  },
  {
   "cell_type": "code",
   "execution_count": 22,
   "metadata": {},
   "outputs": [
    {
     "name": "stdout",
     "output_type": "stream",
     "text": [
      "['link1.html', 'link2.html', 'link3.html', 'link4.html', 'link5.html']\n"
     ]
    }
   ],
   "source": [
    "#属性提取：@attributename\n",
    "result = html.xpath('//li/a/@href')\n",
    "print(result)"
   ]
  },
  {
   "cell_type": "markdown",
   "metadata": {},
   "source": [
    "## 属性多值匹配\n",
    "- 某个属性有多个值\n",
    "- 用contains()函数\n",
    "- 第一个参数：属性名称\n",
    "- 第二个参数：属性值"
   ]
  },
  {
   "cell_type": "code",
   "execution_count": 26,
   "metadata": {},
   "outputs": [
    {
     "name": "stdout",
     "output_type": "stream",
     "text": [
      "[]\n",
      "['link.html']\n"
     ]
    }
   ],
   "source": [
    "text = '''\n",
    "<li class = \"li li-first\"><a href = \"link.html\">first item</a></li>\n",
    "'''\n",
    "html = etree.HTML(text)\n",
    "result = html.xpath('//li[@class=\"li\"]/a/@href')\n",
    "print(result)\n",
    "\n",
    "result = html.xpath('//li[contains(@class,\"li\")]/a/@href')\n",
    "print(result)\n",
    "\n"
   ]
  },
  {
   "cell_type": "markdown",
   "metadata": {},
   "source": [
    "## 多属性匹配\n",
    "- 多个属性确定一个节点，用and连接"
   ]
  },
  {
   "cell_type": "code",
   "execution_count": 28,
   "metadata": {},
   "outputs": [
    {
     "name": "stdout",
     "output_type": "stream",
     "text": [
      "['link.html']\n",
      "['link.html']\n"
     ]
    }
   ],
   "source": [
    "text = '''\n",
    "<li class = \"li li-first\" name = \"item\"><a href = \"link.html\">first item</a></li>\n",
    "'''\n",
    "html = etree.HTML(text)\n",
    "result = html.xpath('//li[@name=\"item\"]/a/@href')\n",
    "print(result)\n",
    "\n",
    "result = html.xpath('//li[contains(@class,\"li\") and @name=\"item\"]/a/@href')\n",
    "print(result)"
   ]
  },
  {
   "cell_type": "code",
   "execution_count": null,
   "metadata": {
    "collapsed": true
   },
   "outputs": [],
   "source": []
  }
 ],
 "metadata": {
  "kernelspec": {
   "display_name": "Python 3",
   "language": "python",
   "name": "python3"
  },
  "language_info": {
   "codemirror_mode": {
    "name": "ipython",
    "version": 3
   },
   "file_extension": ".py",
   "mimetype": "text/x-python",
   "name": "python",
   "nbconvert_exporter": "python",
   "pygments_lexer": "ipython3",
   "version": "3.6.4"
  }
 },
 "nbformat": 4,
 "nbformat_minor": 2
}

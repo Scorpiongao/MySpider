{
 "cells": [
  {
   "cell_type": "markdown",
   "metadata": {},
   "source": [
    "# Re正则匹配\n",
    "- 参考教程\n",
    "    - [廖雪峰官网-正则表达式](https://www.liaoxuefeng.com/wiki/0014316089557264a6b348958f449949df42a6d3a2e542c000/00143193331387014ccd1040c814dee8b2164bb4f064cff000)\n",
    "    - [正则表达式](https://blog.csdn.net/FlyDirk/article/details/8557219)"
   ]
  },
  {
   "cell_type": "code",
   "execution_count": 1,
   "metadata": {
    "collapsed": true
   },
   "outputs": [],
   "source": [
    "import re\n",
    "# help(re)"
   ]
  },
  {
   "cell_type": "markdown",
   "metadata": {},
   "source": [
    "## match(pattern, string[, flag])\n",
    "\n",
    "match用来匹配在字符串的开头处的模式，如果你要匹配整个字符串的话，可以在模式串的末尾加上一个'$'\n",
    "- 第一个参数：正则表达式\n",
    "- 第二个参数：要匹配的字符串\n"
   ]
  },
  {
   "cell_type": "code",
   "execution_count": 2,
   "metadata": {},
   "outputs": [
    {
     "name": "stdout",
     "output_type": "stream",
     "text": [
      "Help on function match in module re:\n",
      "\n",
      "match(pattern, string, flags=0)\n",
      "    Try to apply the pattern at the start of the string, returning\n",
      "    a match object, or None if no match was found.\n",
      "\n"
     ]
    }
   ],
   "source": [
    "help(re.match)"
   ]
  },
  {
   "cell_type": "code",
   "execution_count": 3,
   "metadata": {},
   "outputs": [
    {
     "name": "stdout",
     "output_type": "stream",
     "text": [
      "None\n",
      "<_sre.SRE_Match object; span=(0, 9), match='hello 123'>\n",
      "hello 123\n",
      "(0, 9)\n",
      "<_sre.SRE_Match object; span=(0, 25), match='hello 123 4567 world_this'>\n",
      "hello 123 4567 world_this\n",
      "(0, 25)\n"
     ]
    }
   ],
   "source": [
    "#从开头开始匹配\n",
    "content = \"hello 123 4567 world_this is a regex demo\"\n",
    "res = re.match(r'\\d+',content)\n",
    "print(res)\n",
    "\n",
    "\n",
    "res = re.match(r'^hello\\s\\d+',content)\n",
    "print(res)\n",
    "print(res[0])\n",
    "print(res.span())\n",
    "\n",
    "\n",
    "res = re.match(r'^hello\\s\\d+\\s\\d+\\s\\w{10}',content)\n",
    "print(res)\n",
    "print(res[0])\n",
    "print(res.span())"
   ]
  },
  {
   "cell_type": "markdown",
   "metadata": {},
   "source": [
    "### 匹配字符串中的目标\n",
    "- 从要匹配的字符串中提取一部分内容\n",
    "- 提取内容部分的正则表达式用（）起来\n",
    "- group()或group(0)表示完整的匹配结果\n",
    "- group(1)：第一个匹配结果"
   ]
  },
  {
   "cell_type": "code",
   "execution_count": 16,
   "metadata": {},
   "outputs": [
    {
     "name": "stdout",
     "output_type": "stream",
     "text": [
      "<_sre.SRE_Match object; span=(0, 14), match='hello 1234567 '>\n",
      "hello 1234567 \n",
      "hello 1234567 \n",
      "1234567\n",
      "(0, 14)\n"
     ]
    }
   ],
   "source": [
    "content = \"hello 1234567 world_this is a regex demo\"\n",
    "res = re.match(r'^hello\\s(\\d+)\\s',content)\n",
    "print(res)\n",
    "print(res.group())\n",
    "print(res.group(0))\n",
    "print(res.group(1))\n",
    "print(res.span())"
   ]
  },
  {
   "cell_type": "markdown",
   "metadata": {},
   "source": [
    "## search(pattern, string[, flag])\n",
    "- 扫描整个字符串，返回第一个成功匹配的结果"
   ]
  },
  {
   "cell_type": "code",
   "execution_count": 24,
   "metadata": {},
   "outputs": [
    {
     "name": "stdout",
     "output_type": "stream",
     "text": [
      "<_sre.SRE_Match object; span=(6, 9), match='123'>\n",
      "123\n",
      "123\n",
      "(6, 9)\n"
     ]
    }
   ],
   "source": [
    "content = \"hello 123 4567 world_this is a regex demo\"\n",
    "res = re.search(r'\\d+',content)\n",
    "print(res)\n",
    "print(res[0])\n",
    "print(res.group())\n",
    "print(res.span())\n",
    "\n"
   ]
  },
  {
   "cell_type": "markdown",
   "metadata": {},
   "source": [
    "## findall(pattern, string)\n",
    "\n",
    "- findall用来返回一个字符串的list，里面包含了所有的匹配的字符串。"
   ]
  },
  {
   "cell_type": "code",
   "execution_count": 26,
   "metadata": {},
   "outputs": [
    {
     "name": "stdout",
     "output_type": "stream",
     "text": [
      "['123', '4567']\n",
      "123\n"
     ]
    }
   ],
   "source": [
    "res = re.findall(r'\\d+',content)\n",
    "print(res)\n",
    "print(res[0])"
   ]
  },
  {
   "cell_type": "markdown",
   "metadata": {},
   "source": [
    "## sub(pat, repl, string[, count=0])\n",
    "\n",
    "- sub用来替换字符串中最左边的n个符合匹配规则的模式串。\n",
    "- 第一个参数：正则表达式\n",
    "- 第二个参数：要替代的字符串\n",
    "- 第三个参数：原字符串"
   ]
  },
  {
   "cell_type": "code",
   "execution_count": 27,
   "metadata": {},
   "outputs": [
    {
     "name": "stdout",
     "output_type": "stream",
     "text": [
      "hello ming ming world_this is a regex demo\n",
      "hello 123 4567 world_this is a regex demo\n"
     ]
    }
   ],
   "source": [
    "content = \"hello 123 4567 world_this is a regex demo\"\n",
    "res = re.sub(r'\\d+','ming',content)\n",
    "print(res)\n",
    "print(content)"
   ]
  },
  {
   "cell_type": "markdown",
   "metadata": {},
   "source": [
    "## split(pattern, string[, maxsplit=0])\n",
    "\n",
    "- 这个可以利用pattern的出现来进行切割，类似于split方法，但是，这个是使用正则表达式，下面是一个例子\n",
    "- 如果模式里面包含了括号，那么被括号扩起来的部分将留在被分割的字符之间。\n",
    "- maxsplit参数用来表示最大的被允许的分割次数。"
   ]
  },
  {
   "cell_type": "code",
   "execution_count": 30,
   "metadata": {},
   "outputs": [
    {
     "name": "stdout",
     "output_type": "stream",
     "text": [
      "['haha', 'abc', '123', 'bhjehdeeh']\n",
      "['haha', 'abc', '123,,,,,bhjehdeeh']\n"
     ]
    }
   ],
   "source": [
    "text = \"haha,abc,,123,,,,,bhjehdeeh\"\n",
    "l1 = re.split(r'[,]+',text)\n",
    "print(l1)\n",
    "\n",
    "l2 = re.split(r'[,]+',text,maxsplit=2)\n",
    "print(l2)"
   ]
  },
  {
   "cell_type": "markdown",
   "metadata": {},
   "source": [
    "## compile(pattern[, flags])\n",
    "- 用来将一个字符串编译成一个pattern对象。它来进行计算的话将会有更高的效率，如果你想对一个正则表达式进行search或者match操作最好先将它转换为一个pattern对象pattern对象中包含search和match的方法re.search(pat, string)与pat.(string)是等价的，pattern对象也能用在普通的正则表达式函数中。"
   ]
  },
  {
   "cell_type": "code",
   "execution_count": 62,
   "metadata": {},
   "outputs": [
    {
     "name": "stdout",
     "output_type": "stream",
     "text": [
      "None\n",
      "<_sre.SRE_Match object; span=(6, 9), match='123'>\n",
      "123\n",
      "6\n",
      "9\n",
      "<_sre.SRE_Match object; span=(0, 9), match='hello 123'>\n",
      "hello 123\n",
      "hello 123\n",
      "<_sre.SRE_Match object; span=(0, 9), match='hello 123'>\n",
      "hello 123\n",
      "0\n",
      "9\n",
      "<_sre.SRE_Match object; span=(6, 9), match='123'>\n",
      "123\n",
      "123\n",
      "['123', '4567']\n",
      "123\n",
      "hello fengzi fengzi world_this is a regex demo\n",
      "['hello', '123', '4567', 'world_this', 'is', 'a', 'regex', 'demo']\n"
     ]
    }
   ],
   "source": [
    "content = \"hello 123 4567 world_this is a regex demo\"\n",
    "\n",
    "#match\n",
    "pattern = re.compile(r'\\d+')\n",
    "res = re.match(pattern,content)\n",
    "print(res)\n",
    "\n",
    "m = pattern.match(content,6,20)\n",
    "print(m)\n",
    "print(m[0])\n",
    "print(m.start(0))\n",
    "print(m.end(0))\n",
    "\n",
    "pattern = re.compile(r'.*?\\d+')\n",
    "res = re.match(pattern,content)\n",
    "print(res)\n",
    "print(res.group(0))\n",
    "print(res[0])\n",
    "\n",
    "\n",
    "#search\n",
    "m = pattern.search(content)\n",
    "print(m)\n",
    "print(m[0])\n",
    "print(m.start(0))\n",
    "print(m.end(0))\n",
    "\n",
    "\n",
    "pattern = re.compile(r'\\d+')\n",
    "res = re.search(pattern,content)\n",
    "print(res)\n",
    "print(res.group(0))\n",
    "print(res[0])\n",
    "\n",
    "#findall\n",
    "pattern = re.compile(r'\\d+')\n",
    "res = re.findall(pattern,content)\n",
    "print(res)\n",
    "print(res[0])\n",
    "\n",
    "#sub\n",
    "pattern = re.compile(r'\\d+')\n",
    "res = re.sub(pattern,'fengzi',content)\n",
    "print(res)\n",
    "\n",
    "#split\n",
    "pattern = re.compile(r'\\s')\n",
    "res = re.split(pattern,content)\n",
    "print(res)\n"
   ]
  },
  {
   "cell_type": "markdown",
   "metadata": {},
   "source": [
    "## 修饰符\n",
    "- re.I： 使匹配对大小写不敏感（忽略大小写）\n",
    "- re.L：做本地化识别匹配\n",
    "- re.M：多行匹配，影响^和$\n",
    "- re.S：使.匹配换行符在内的所有字符\n",
    "- re.U：根据Unicode字符集解析字符，这个标志影响\\w,\\W,\\b,\\B\n",
    "- re.X：该标志通过给予你更灵活的格式以便你将正则表达式写的便于理解\n",
    "- 常用re.S和re.I"
   ]
  },
  {
   "cell_type": "code",
   "execution_count": 46,
   "metadata": {},
   "outputs": [
    {
     "name": "stdout",
     "output_type": "stream",
     "text": [
      "None\n"
     ]
    },
    {
     "ename": "AttributeError",
     "evalue": "'NoneType' object has no attribute 'group'",
     "output_type": "error",
     "traceback": [
      "\u001b[1;31m---------------------------------------------------------------------------\u001b[0m",
      "\u001b[1;31mAttributeError\u001b[0m                            Traceback (most recent call last)",
      "\u001b[1;32m<ipython-input-46-3ef804e92665>\u001b[0m in \u001b[0;36m<module>\u001b[1;34m()\u001b[0m\n\u001b[0;32m      6\u001b[0m \u001b[0mres\u001b[0m \u001b[1;33m=\u001b[0m \u001b[0mre\u001b[0m\u001b[1;33m.\u001b[0m\u001b[0mmatch\u001b[0m\u001b[1;33m(\u001b[0m\u001b[0mpattern\u001b[0m\u001b[1;33m,\u001b[0m\u001b[0mcontent\u001b[0m\u001b[1;33m)\u001b[0m\u001b[1;33m\u001b[0m\u001b[0m\n\u001b[0;32m      7\u001b[0m \u001b[0mprint\u001b[0m\u001b[1;33m(\u001b[0m\u001b[0mres\u001b[0m\u001b[1;33m)\u001b[0m\u001b[1;33m\u001b[0m\u001b[0m\n\u001b[1;32m----> 8\u001b[1;33m \u001b[0mprint\u001b[0m\u001b[1;33m(\u001b[0m\u001b[0mres\u001b[0m\u001b[1;33m.\u001b[0m\u001b[0mgroup\u001b[0m\u001b[1;33m(\u001b[0m\u001b[1;33m)\u001b[0m\u001b[1;33m)\u001b[0m\u001b[1;33m\u001b[0m\u001b[0m\n\u001b[0m",
      "\u001b[1;31mAttributeError\u001b[0m: 'NoneType' object has no attribute 'group'"
     ]
    }
   ],
   "source": [
    "content = '''hello 1234567 world_this \n",
    "is a regex demo'''\n",
    "\n",
    "#match\n",
    "pattern = re.compile('.*?(\\d+).*?demo')\n",
    "res = re.match(pattern,content)\n",
    "print(res)\n",
    "print(res.group())\n"
   ]
  },
  {
   "cell_type": "code",
   "execution_count": 51,
   "metadata": {},
   "outputs": [
    {
     "name": "stdout",
     "output_type": "stream",
     "text": [
      "<_sre.SRE_Match object; span=(0, 41), match='hello 1234567 world_this \\nis a regex demo'>\n",
      "hello 1234567 world_this \n",
      "is a regex demo\n",
      "1234567\n",
      "hello 1234567 world_this \n",
      "is a regex demo\n"
     ]
    }
   ],
   "source": [
    "#加修饰符re.S即可\n",
    "#pattern = re.compile(r'.*?(\\d+).*?demo')\n",
    "res = re.match(r'.*?(\\d+).*?demo',content,re.S)\n",
    "print(res)\n",
    "print(res.group())\n",
    "print(res.group(1))\n",
    "print(res[0])"
   ]
  },
  {
   "cell_type": "code",
   "execution_count": 52,
   "metadata": {},
   "outputs": [
    {
     "name": "stdout",
     "output_type": "stream",
     "text": [
      "<_sre.SRE_Match object; span=(0, 41), match='hello 1234567 world_this \\nis a regex demo'>\n",
      "hello 1234567 world_this \n",
      "is a regex demo\n"
     ]
    }
   ],
   "source": [
    "#加修饰符re.S即可,加在compile行\n",
    "pattern = re.compile(r'.*?(\\d+).*?demo',re.S)\n",
    "res = re.match(pattern,content)\n",
    "print(res)\n",
    "print(res.group())\n"
   ]
  },
  {
   "cell_type": "markdown",
   "metadata": {},
   "source": [
    "## 贪婪与非贪婪\n",
    "- 通配符：.*\n",
    "- 贪婪：.*，尽可能多的匹配字符(默认)\n",
    "- 非贪婪：.*?"
   ]
  },
  {
   "cell_type": "code",
   "execution_count": 68,
   "metadata": {},
   "outputs": [
    {
     "name": "stdout",
     "output_type": "stream",
     "text": [
      "['<div>name</div><div>age</div><div>hobby</div>']\n",
      "['<div>name</div>', '<div>age</div>', '<div>hobby</div>']\n",
      "<div>name</div><div>age</div><div>hobby</div>\n",
      "<div>name</div>\n"
     ]
    }
   ],
   "source": [
    "title = '<div>name</div><div>age</div><div>hobby</div>'\n",
    "\n",
    "pattern1 = re.compile(r'<div>.*</div>')\n",
    "pattern2 = re.compile(r'<div>.*?</div>')\n",
    "\n",
    "res1 = re.findall(pattern1,title)\n",
    "res2 = re.findall(pattern2,title)\n",
    "\n",
    "print(res1)\n",
    "print(res2)\n",
    "\n",
    "res1 = re.search(pattern1,title)\n",
    "res2 = re.search(pattern2,title)\n",
    "\n",
    "print(res1.group())\n",
    "print(res2.group())"
   ]
  },
  {
   "cell_type": "code",
   "execution_count": null,
   "metadata": {
    "collapsed": true
   },
   "outputs": [],
   "source": []
  },
  {
   "cell_type": "markdown",
   "metadata": {},
   "source": [
    "## 匹配中文\n",
    "- 大部分中文内容表示范围是[\\u4e00-\\u9fa5],不包括全角标点"
   ]
  },
  {
   "cell_type": "code",
   "execution_count": 63,
   "metadata": {},
   "outputs": [
    {
     "name": "stdout",
     "output_type": "stream",
     "text": [
      "['疯子']\n"
     ]
    }
   ],
   "source": [
    "text = \"hello 疯子 world\"\n",
    "pattern = re.compile(r'[\\u4e00-\\u9fa5]+')\n",
    "res = re.findall(pattern,text)\n",
    "print(res)"
   ]
  },
  {
   "cell_type": "code",
   "execution_count": null,
   "metadata": {
    "collapsed": true
   },
   "outputs": [],
   "source": []
  }
 ],
 "metadata": {
  "kernelspec": {
   "display_name": "Python 3",
   "language": "python",
   "name": "python3"
  },
  "language_info": {
   "codemirror_mode": {
    "name": "ipython",
    "version": 3
   },
   "file_extension": ".py",
   "mimetype": "text/x-python",
   "name": "python",
   "nbconvert_exporter": "python",
   "pygments_lexer": "ipython3",
   "version": "3.6.4"
  }
 },
 "nbformat": 4,
 "nbformat_minor": 2
}
